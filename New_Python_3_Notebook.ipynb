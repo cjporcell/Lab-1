{
  "nbformat": 4,
  "nbformat_minor": 0,
  "metadata": {
    "colab": {
      "name": "New Python 3 Notebook.ipynb",
      "provenance": [],
      "authorship_tag": "ABX9TyNxuXI2/VEciaUs4HjloFRD",
      "include_colab_link": true
    },
    "kernelspec": {
      "name": "python3",
      "display_name": "Python 3"
    }
  },
  "cells": [
    {
      "cell_type": "markdown",
      "metadata": {
        "id": "view-in-github",
        "colab_type": "text"
      },
      "source": [
        "<a href=\"https://colab.research.google.com/github/cjporcell/Lab-1/blob/master/New_Python_3_Notebook.ipynb\" target=\"_parent\"><img src=\"https://colab.research.google.com/assets/colab-badge.svg\" alt=\"Open In Colab\"/></a>"
      ]
    },
    {
      "cell_type": "markdown",
      "metadata": {
        "id": "X0Uq6ECJSit3",
        "colab_type": "text"
      },
      "source": [
        "#Do you like using Jupyter Notebooks?\n"
      ]
    },
    {
      "cell_type": "markdown",
      "metadata": {
        "id": "MfXfRhDyStZg",
        "colab_type": "text"
      },
      "source": [
        "Yes, I like using Jupyter Notebooks because it is a new enviroment for learning and coding for me. So far it has been pretty simple and easy to understand."
      ]
    },
    {
      "cell_type": "markdown",
      "metadata": {
        "id": "Qg47kQaIUTU9",
        "colab_type": "text"
      },
      "source": [
        "#What do you want to learn more about in Jupyter Notebooks?"
      ]
    },
    {
      "cell_type": "markdown",
      "metadata": {
        "id": "ej1ADjz3UakB",
        "colab_type": "text"
      },
      "source": [
        "Theres a lot I'd like to learn in Jupyter Notebooks because I don't know much at this point in the semester. I would mainly like to learn all the different things we can do with the coding cells. "
      ]
    },
    {
      "cell_type": "markdown",
      "metadata": {
        "id": "_b3o_3eVUs1f",
        "colab_type": "text"
      },
      "source": [
        "![assateague_nightskyjpg](https://raw.githubusercontent.com/cjporcell/Lab-1/master/assateague_nightskyjpg.jpg)"
      ]
    }
  ]
}